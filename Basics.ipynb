{
 "cells": [
  {
   "cell_type": "code",
   "execution_count": 1,
   "id": "1bb9c0b7-dad2-4ee5-a61a-49c46adb673d",
   "metadata": {},
   "outputs": [
    {
     "name": "stdout",
     "output_type": "stream",
     "text": [
      "Hello World!\n"
     ]
    }
   ],
   "source": [
    "print(\"Hello World!\")"
   ]
  },
  {
   "cell_type": "code",
   "execution_count": 2,
   "id": "f3bfa3ab-360f-4cc5-8b76-98beb5aaff8e",
   "metadata": {},
   "outputs": [],
   "source": [
    "# comment\n",
    "# this is another comment\n",
    "#here is one more\n",
    "#the pound sign is the important thing"
   ]
  },
  {
   "cell_type": "code",
   "execution_count": 3,
   "id": "b7e523a4-444a-4bbc-9636-5c42830bd889",
   "metadata": {},
   "outputs": [
    {
     "data": {
      "text/plain": [
       "'\\n    here is a\\n    multiline\\n    comment.\\n    this is usfull for\\n    large amounts of text.\\n'"
      ]
     },
     "execution_count": 3,
     "metadata": {},
     "output_type": "execute_result"
    }
   ],
   "source": [
    "## this is also a comment\n",
    "'''\n",
    "    here is a\n",
    "    multiline\n",
    "    comment.\n",
    "    this is usfull for\n",
    "    large amounts of text.\n",
    "'''"
   ]
  },
  {
   "cell_type": "code",
   "execution_count": 4,
   "id": "8d718d74-affa-4e35-920d-6ae3c2de70de",
   "metadata": {},
   "outputs": [
    {
     "name": "stdout",
     "output_type": "stream",
     "text": [
      "Hello World\n",
      "Here is somthing else to print\n",
      "Here is somthing in 'quotes' and some numbers: 1234567\n"
     ]
    }
   ],
   "source": [
    "# the python 'print' statment\n",
    "\n",
    "# for simple output\n",
    "print (\"Hello World\")\n",
    "print (\"Here is somthing else to print\")\n",
    "print (\"Here is somthing in 'quotes' and some numbers: 1234567\")"
   ]
  },
  {
   "cell_type": "code",
   "execution_count": 5,
   "id": "ac2a9df0-944b-4b09-a286-a1792cb7edf7",
   "metadata": {},
   "outputs": [
    {
     "name": "stdout",
     "output_type": "stream",
     "text": [
      "This is a string.\n"
     ]
    }
   ],
   "source": [
    "# a \"string\" is a bunch of alpanumberic data\n",
    "print(\"This is a string.\")"
   ]
  },
  {
   "cell_type": "code",
   "execution_count": 6,
   "id": "edba56e8-4c45-4072-8c0f-73dc41028e97",
   "metadata": {},
   "outputs": [
    {
     "name": "stdout",
     "output_type": "stream",
     "text": [
      "12345\n",
      "12345\n"
     ]
    }
   ],
   "source": [
    "# a integer is a number not in quotes\n",
    "print(12345)\n",
    "print(\"12345\")"
   ]
  },
  {
   "cell_type": "code",
   "execution_count": 7,
   "id": "70c41577-8d87-4fec-b788-99c295568c5f",
   "metadata": {},
   "outputs": [
    {
     "name": "stdout",
     "output_type": "stream",
     "text": [
      "Hello World 123\n",
      "123 somewhere St. Nova Scotia 456\n"
     ]
    }
   ],
   "source": [
    "# you can combined pices of data together\n",
    "print(\"Hello World\", 123)\n",
    "print(123, \"somewhere St.\",\"Nova Scotia\", 456)"
   ]
  },
  {
   "cell_type": "code",
   "execution_count": 8,
   "id": "59df3b37-f93c-4ab2-bc21-0348b875d123",
   "metadata": {},
   "outputs": [
    {
     "name": "stdout",
     "output_type": "stream",
     "text": [
      "Hello\n",
      "World!\n"
     ]
    }
   ],
   "source": [
    "# specal caracters\n",
    "print(\"Hello\\nWorld!\") #\\n is a newline character"
   ]
  },
  {
   "cell_type": "code",
   "execution_count": 10,
   "id": "d1ada0c5-10c4-40d2-9f07-17497dda4477",
   "metadata": {
    "scrolled": true
   },
   "outputs": [
    {
     "name": "stdout",
     "output_type": "stream",
     "text": [
      "Sale Price: 12345\n",
      "Sales Price12345\n"
     ]
    }
   ],
   "source": [
    "# demonstrating different newline styles\n",
    "print (\"Sale Price:\", 12345)\n",
    "print (\"Sales Price\", end=\"\")\n",
    "print(12345)"
   ]
  },
  {
   "cell_type": "code",
   "execution_count": 12,
   "id": "d0bd96df-ce11-4639-9ea1-e893628ab3aa",
   "metadata": {},
   "outputs": [
    {
     "name": "stdin",
     "output_type": "stream",
     "text": [
      "Enter a number: 1234\n"
     ]
    }
   ],
   "source": [
    "# getting input from the user\n",
    "user_input = input(\"Enter a number:\")"
   ]
  },
  {
   "cell_type": "code",
   "execution_count": 13,
   "id": "a68a0094-91de-4d53-9029-7b75a82ec883",
   "metadata": {},
   "outputs": [
    {
     "ename": "SyntaxError",
     "evalue": "invalid decimal literal (985908459.py, line 12)",
     "output_type": "error",
     "traceback": [
      "  \u001b[36mCell\u001b[39m\u001b[36m \u001b[39m\u001b[32mIn[13]\u001b[39m\u001b[32m, line 12\u001b[39m\n\u001b[31m    \u001b[39m\u001b[31mbianary_number = 1b10101010 # a hexadecimal intager\u001b[39m\n                     ^\n\u001b[31mSyntaxError\u001b[39m\u001b[31m:\u001b[39m invalid decimal literal\n"
     ]
    }
   ],
   "source": [
    "# more about variables\n",
    "\n",
    "# naming convention\n",
    "# keep variable names as a discriptive as possible\n",
    "# snake_case\n",
    "# keep the length of the variable name to 1, 2, or three words (max)\n",
    "\n",
    "#examples of good variable names\n",
    "user_name = \"Jhon Doe\" # a string varible\n",
    "cost = 123.45 # a decimal variable\n",
    "small_number = 3 # an inteager variable\n",
    "bianary_number = 1b10101010 # a hexadecimal intager\n",
    "big_number = 1234567890 # huge intager\n",
    "\n",
    "# examples of bad variable names\n",
    "# my name = \"John\" # cant have specal in the veriable name\n",
    "# 123 = 123 # can't use a number as a variable name\n",
    "# :) = \"smiley\" # can't use special characters other than underscore\n",
    "# aVariableName = \"stuff\" # this is a \"camelCasing\" and is used in other languages\n",
    "# x = \"Hello\" # make variable names discriptive!"
   ]
  },
  {
   "cell_type": "code",
   "execution_count": 15,
   "id": "d653a0c9-984a-4f27-a2ca-0059de5db942",
   "metadata": {},
   "outputs": [
    {
     "name": "stdout",
     "output_type": "stream",
     "text": [
      "Enter The Date:\n"
     ]
    },
    {
     "name": "stdin",
     "output_type": "stream",
     "text": [
      "Day:  19\n",
      "Month:  sept\n",
      "year:  2025\n"
     ]
    }
   ],
   "source": [
    "# Create a script that creates three variables to hold the current day, month and year.\n",
    "# Display the current date using those variables nicely formatted\n",
    "\n",
    "print (\"Enter The Date:\")\n",
    "user_input = input(\"Day: \")\n",
    "user_input = input(\"Month: \")\n",
    "user_input = input(\"year: \")"
   ]
  },
  {
   "cell_type": "code",
   "execution_count": 16,
   "id": "e08f7025-961b-4f14-a9a4-50669e1dfeb1",
   "metadata": {},
   "outputs": [
    {
     "name": "stdout",
     "output_type": "stream",
     "text": [
      "september 19 , 2025\n",
      "september 19, 2025\n"
     ]
    }
   ],
   "source": [
    "# Create a script that creates three variables to hold the current day, month and year.\n",
    "# Display the current date using those variables nicely formatted\n",
    "# Anwcer\n",
    "day = 19\n",
    "month = \"september\"\n",
    "year = \"2025\"\n",
    "print(month, day , \",\", year)\n",
    "#using an f-string instead\n",
    "print(f\"{month} {day}, {year}\")"
   ]
  },
  {
   "cell_type": "code",
   "execution_count": null,
   "id": "7596471c-8467-454c-87df-8ac16065c492",
   "metadata": {},
   "outputs": [],
   "source": [
    "# Create a script that Asks the user's first name and last name,\n",
    "# Then have the script output their email adress in the format\n",
    "# <first name>.<last name>@nscc.ca\n",
    "print(\"What is your First Name?: \")\n",
    "user_input = input(\"First Name\")\n",
    "print (\"What is your Last Name?: \")\n",
    "user_input = input (:\"Last Name\")"
   ]
  },
  {
   "cell_type": "code",
   "execution_count": null,
   "id": "3505e8e8-befe-4565-bd7c-a54beabe7b1b",
   "metadata": {},
   "outputs": [],
   "source": [
    "# Create a script that Asks the user's first name and last name,\n",
    "# Then have the script output their email adress in the format\n",
    "# <first name>.<last name>@nscc.ca\n",
    "first_name = input(\"Enter your first name:\")\n",
    "Last_name = input (\"Enter your last name:\")\n",
    "print(f\"{first_name}.{last_name}@nscc.ca\")"
   ]
  },
  {
   "cell_type": "code",
   "execution_count": 4,
   "id": "a523e211-3682-4e82-bcad-bd90e9add268",
   "metadata": {},
   "outputs": [
    {
     "name": "stdout",
     "output_type": "stream",
     "text": [
      "Hello World!!\n"
     ]
    }
   ],
   "source": [
    "# more about strings\n",
    "\n",
    "# define a string\n",
    "text = \"Hello World\"\n",
    "\n",
    "# concatenation of strings\n",
    "\"concatenate\" + \"strings\"\n",
    "\n",
    "text = \"Hello \" + \"World\"\n",
    "text = text + \"!\"\n",
    "text += \"!\"\n",
    "print (text)"
   ]
  },
  {
   "cell_type": "code",
   "execution_count": 7,
   "id": "8b37138d-7185-4300-99bc-698d90bfeec6",
   "metadata": {},
   "outputs": [
    {
     "name": "stdout",
     "output_type": "stream",
     "text": [
      "5685 Leeds St\n"
     ]
    }
   ],
   "source": [
    "# combine strings and numbers\n",
    "#address = 5685 + \" Leeds St\" #ERROR! Can't add a number to a string\n",
    "address = \"5685\" + \" Leeds St\"\n",
    "adress = str(5685) + \" Leeds St\"\n",
    "adress = f\"{5685} Leeds St\"\n",
    "print(address)"
   ]
  },
  {
   "cell_type": "code",
   "execution_count": 9,
   "id": "da294058-08ad-422f-a881-510373efe1c4",
   "metadata": {},
   "outputs": [
    {
     "name": "stdout",
     "output_type": "stream",
     "text": [
      "price: 123.45\n"
     ]
    }
   ],
   "source": [
    "# combine strings and decimals\n",
    "price_amount = 123.45\n",
    "price_string = \"price: \" + str(price_amount)\n",
    "print(price_string)"
   ]
  },
  {
   "cell_type": "code",
   "execution_count": 13,
   "id": "6fd2b732-3761-4730-8a8b-92f0444b2a42",
   "metadata": {},
   "outputs": [
    {
     "name": "stdout",
     "output_type": "stream",
     "text": [
      "Sum = 3\n"
     ]
    }
   ],
   "source": [
    "# combine strings and calculations\n",
    "answer = \"Sum = \" + str(1) + str(2)\n",
    "answer = \"Sum = \" + str(1 + 2)\n",
    "answer = f\"Sum = {1 +2 }\"\n",
    "print(answer)"
   ]
  },
  {
   "cell_type": "code",
   "execution_count": 17,
   "id": "873c5c6a-59db-45a8-91b3-9b55282b3274",
   "metadata": {},
   "outputs": [
    {
     "data": {
      "text/plain": [
       "'Hello Hello Hello World World World'"
      ]
     },
     "execution_count": 17,
     "metadata": {},
     "output_type": "execute_result"
    }
   ],
   "source": [
    "# formatted strings\n",
    "\"{}, {}\".format(\"Hello\", \"World\")\n",
    "\"{0}, {1}\".format(\"Hello\", \"World\")\n",
    "\"{1}, {0}\".format(\"Hello\", \"World\")\n",
    "\"{} + {} = {}\".format(1, 2, (1 + 2))\n",
    "\"{0} {0} {0} {1} {1} {1}\".format(\"Hello\", \"World\")"
   ]
  },
  {
   "cell_type": "code",
   "execution_count": 19,
   "id": "b7a64bd4-b2f7-41fc-8fbf-473aed5a6e9e",
   "metadata": {},
   "outputs": [
    {
     "data": {
      "text/plain": [
       "'lamb'"
      ]
     },
     "execution_count": 19,
     "metadata": {},
     "output_type": "execute_result"
    }
   ],
   "source": [
    "# substrings\n",
    "\"cat dog mouse\"[4:7] # range where [start:end+1]\n",
    "text = \"Mary had a little lamb\"\n",
    "text [18:22]"
   ]
  },
  {
   "cell_type": "code",
   "execution_count": 20,
   "id": "2b45332e-4473-4611-b228-b86817e899aa",
   "metadata": {},
   "outputs": [
    {
     "data": {
      "text/plain": [
       "'------------------------------'"
      ]
     },
     "execution_count": 20,
     "metadata": {},
     "output_type": "execute_result"
    }
   ],
   "source": [
    "# replication operater\n",
    "\"-\" * 30"
   ]
  },
  {
   "cell_type": "code",
   "execution_count": 25,
   "id": "29bf040c-0be9-44dc-b14e-39b68327fd57",
   "metadata": {},
   "outputs": [
    {
     "data": {
      "text/plain": [
       "bool"
      ]
     },
     "execution_count": 25,
     "metadata": {},
     "output_type": "execute_result"
    }
   ],
   "source": [
    "# more on data types\n",
    "\n",
    "# string\n",
    "# - a string of letters and numbers\n",
    "# - anything surrounded by double quotes\n",
    "type(\"Hello World\")\n",
    "\n",
    "# integer\n",
    "# - a whole number (no decimal points)\n",
    "# - not in quotation marks\n",
    "type(123)\n",
    "\n",
    "# float\n",
    "# - a number with a decimal point\n",
    "# - all decimals can't be represented (e.g. Pi)\n",
    "# - more represents an aprroximation than an actual number\n",
    "12312312312312312312452345.234123411234412122313232133131323123113413\n",
    "type(123.45)\n",
    "\n",
    "#boolean\n",
    "# - True or False\n",
    "type(False)\n",
    "type(True)"
   ]
  },
  {
   "cell_type": "code",
   "execution_count": 28,
   "id": "2f93420b-68b6-4083-ba8c-b6c32427837c",
   "metadata": {},
   "outputs": [
    {
     "data": {
      "text/plain": [
       "False"
      ]
     },
     "execution_count": 28,
     "metadata": {},
     "output_type": "execute_result"
    }
   ],
   "source": [
    "# change data types\n",
    "int(\"123\") # success!\n",
    "# int(\"123a\") # error...\n",
    "\n",
    "# convert to a string\n",
    "str(\"123123.12123\")\n",
    "str(False)\n",
    "str(123)\n",
    "str(123.123)\n",
    "\n",
    "# convert to/from a float\n",
    "float(\"12.34\")\n",
    "float(123)\n",
    "int(1.23)\n",
    "# float ('asdsd\") # error...\n",
    "\n",
    "#convert to/from a boolean\n",
    "bool(\"hello\")\n",
    "bool(\"\")\n",
    "bool(123)\n",
    "bool(0)\n",
    "bool(1.23)\n",
    "bool(0.0)"
   ]
  },
  {
   "cell_type": "code",
   "execution_count": 31,
   "id": "fe7649b8-b051-4b21-95bd-e97359d7a11e",
   "metadata": {},
   "outputs": [
    {
     "data": {
      "text/plain": [
       "float"
      ]
     },
     "execution_count": 31,
     "metadata": {},
     "output_type": "execute_result"
    }
   ],
   "source": [
    "# declaring a variable with a specific data type\n",
    "answer = 123.45\n",
    "type(answer)\n",
    "awnser = int(123.45)\n",
    "type(answer)"
   ]
  },
  {
   "cell_type": "code",
   "execution_count": 32,
   "id": "c69abba0-b01b-4058-860a-672c0e0dc798",
   "metadata": {},
   "outputs": [
    {
     "name": "stdin",
     "output_type": "stream",
     "text": [
      "Enter a number 123\n"
     ]
    },
    {
     "ename": "NameError",
     "evalue": "name 'user_imput' is not defined",
     "output_type": "error",
     "traceback": [
      "\u001b[31m---------------------------------------------------------------------------\u001b[39m",
      "\u001b[31mNameError\u001b[39m                                 Traceback (most recent call last)",
      "\u001b[36mCell\u001b[39m\u001b[36m \u001b[39m\u001b[32mIn[32]\u001b[39m\u001b[32m, line 4\u001b[39m\n\u001b[32m      2\u001b[39m user_input = \u001b[38;5;28minput\u001b[39m(\u001b[33m\"\u001b[39m\u001b[33mEnter a number\u001b[39m\u001b[33m\"\u001b[39m)\n\u001b[32m      3\u001b[39m \u001b[38;5;28mtype\u001b[39m(user_input)\n\u001b[32m----> \u001b[39m\u001b[32m4\u001b[39m user_number = \u001b[38;5;28mint\u001b[39m(\u001b[43muser_imput\u001b[49m)\n\u001b[32m      5\u001b[39m \u001b[38;5;28mtype\u001b[39m(user_number)\n\u001b[32m      6\u001b[39m User_number\n",
      "\u001b[31mNameError\u001b[39m: name 'user_imput' is not defined"
     ]
    }
   ],
   "source": [
    "# getting inputt form the user of a partecular data type\n",
    "user_input = input(\"Enter a number\")\n",
    "type(user_input)\n",
    "user_number = int(user_imput)\n",
    "type(user_number)\n",
    "User_number"
   ]
  },
  {
   "cell_type": "code",
   "execution_count": 35,
   "id": "ab36325c-f810-4459-8989-812f18aa5031",
   "metadata": {},
   "outputs": [
    {
     "data": {
      "text/plain": [
       "5.0"
      ]
     },
     "execution_count": 35,
     "metadata": {},
     "output_type": "execute_result"
    }
   ],
   "source": [
    "# math.....\n",
    "2 + 2\n",
    "4 - 2\n",
    "5 * 2\n",
    "10 / 4 # decimal division\n",
    "10 // 4 # intager division\n",
    "10 % 4 # modulus division (remainder of a long division)\n",
    "5 % 2\n",
    "5 ** 2 # exponents\n",
    "25 ** 0.5 # square root"
   ]
  },
  {
   "cell_type": "code",
   "execution_count": 37,
   "id": "febd93ca-4f50-462e-a4d2-f2f5ffe096c9",
   "metadata": {},
   "outputs": [
    {
     "data": {
      "text/plain": [
       "7.75"
      ]
     },
     "execution_count": 37,
     "metadata": {},
     "output_type": "execute_result"
    }
   ],
   "source": [
    "# BEDMAS\n",
    "(1 + 2) * 2\n",
    "(1 + 2) * (3 - 4)\n",
    "(1 + 2) ** 2 / 4 * 3 + 2 - 1"
   ]
  },
  {
   "cell_type": "code",
   "execution_count": 42,
   "id": "db9bd468-fce3-41d7-bf13-1622c169cda5",
   "metadata": {},
   "outputs": [
    {
     "name": "stdout",
     "output_type": "stream",
     "text": [
      "5.0\n"
     ]
    }
   ],
   "source": [
    "# assignment operators\n",
    "a = 1 + 2\n",
    "a = a + 1\n",
    "a+= 1\n",
    "a = a *2 \n",
    "a *= 2\n",
    "a = a / 2\n",
    "a/= 2\n",
    "print(a)"
   ]
  },
  {
   "cell_type": "code",
   "execution_count": 51,
   "id": "b10edf1e-72e4-49f9-8ae5-63b273151c29",
   "metadata": {},
   "outputs": [
    {
     "data": {
      "text/plain": [
       "12.35"
      ]
     },
     "execution_count": 51,
     "metadata": {},
     "output_type": "execute_result"
    }
   ],
   "source": [
    "# math library\n",
    "import math\n",
    "math.pi\n",
    "math.sqrt(25)\n",
    "math.floor(5 / 2)\n",
    "math.floor(12.2455)\n",
    "math.ceil(12.3455)\n",
    "math.floor(1.3)\n",
    "math.ceil(1.3)\n",
    "round(12.3455, 2)"
   ]
  },
  {
   "cell_type": "code",
   "execution_count": 52,
   "id": "328c6c9e-55d9-4133-8f88-d4911ecad8f9",
   "metadata": {
    "scrolled": true
   },
   "outputs": [
    {
     "data": {
      "text/plain": [
       "['__doc__',\n",
       " '__loader__',\n",
       " '__name__',\n",
       " '__package__',\n",
       " '__spec__',\n",
       " 'acos',\n",
       " 'acosh',\n",
       " 'asin',\n",
       " 'asinh',\n",
       " 'atan',\n",
       " 'atan2',\n",
       " 'atanh',\n",
       " 'cbrt',\n",
       " 'ceil',\n",
       " 'comb',\n",
       " 'copysign',\n",
       " 'cos',\n",
       " 'cosh',\n",
       " 'degrees',\n",
       " 'dist',\n",
       " 'e',\n",
       " 'erf',\n",
       " 'erfc',\n",
       " 'exp',\n",
       " 'exp2',\n",
       " 'expm1',\n",
       " 'fabs',\n",
       " 'factorial',\n",
       " 'floor',\n",
       " 'fma',\n",
       " 'fmod',\n",
       " 'frexp',\n",
       " 'fsum',\n",
       " 'gamma',\n",
       " 'gcd',\n",
       " 'hypot',\n",
       " 'inf',\n",
       " 'isclose',\n",
       " 'isfinite',\n",
       " 'isinf',\n",
       " 'isnan',\n",
       " 'isqrt',\n",
       " 'lcm',\n",
       " 'ldexp',\n",
       " 'lgamma',\n",
       " 'log',\n",
       " 'log10',\n",
       " 'log1p',\n",
       " 'log2',\n",
       " 'modf',\n",
       " 'nan',\n",
       " 'nextafter',\n",
       " 'perm',\n",
       " 'pi',\n",
       " 'pow',\n",
       " 'prod',\n",
       " 'radians',\n",
       " 'remainder',\n",
       " 'sin',\n",
       " 'sinh',\n",
       " 'sqrt',\n",
       " 'sumprod',\n",
       " 'tan',\n",
       " 'tanh',\n",
       " 'tau',\n",
       " 'trunc',\n",
       " 'ulp']"
      ]
     },
     "execution_count": 52,
     "metadata": {},
     "output_type": "execute_result"
    }
   ],
   "source": [
    "dir(math)"
   ]
  },
  {
   "cell_type": "code",
   "execution_count": null,
   "id": "f91c5712-360f-48fb-ab66-cc0796fa2f4b",
   "metadata": {},
   "outputs": [],
   "source": []
  }
 ],
 "metadata": {
  "kernelspec": {
   "display_name": "Python 3 (ipykernel)",
   "language": "python",
   "name": "python3"
  },
  "language_info": {
   "codemirror_mode": {
    "name": "ipython",
    "version": 3
   },
   "file_extension": ".py",
   "mimetype": "text/x-python",
   "name": "python",
   "nbconvert_exporter": "python",
   "pygments_lexer": "ipython3",
   "version": "3.13.7"
  }
 },
 "nbformat": 4,
 "nbformat_minor": 5
}
